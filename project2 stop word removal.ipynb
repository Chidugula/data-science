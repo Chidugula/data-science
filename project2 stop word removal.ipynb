{
 "cells": [
  {
   "cell_type": "code",
   "execution_count": 1,
   "id": "5a06a176-8ba0-42ec-968c-4be84b729475",
   "metadata": {},
   "outputs": [],
   "source": [
    "#stop word removal is removal of frequently occuring words and gives positivity in the feedback\n",
    "#NLTK-Natural Language Tool Kit,is a predefined library"
   ]
  },
  {
   "cell_type": "code",
   "execution_count": 36,
   "id": "630a71ae-6925-446e-804f-10d56144f8b4",
   "metadata": {},
   "outputs": [
    {
     "name": "stdout",
     "output_type": "stream",
     "text": [
      "Requirement already satisfied: nltk in c:\\users\\roshi\\anaconda3\\lib\\site-packages (3.9.1)\n",
      "Requirement already satisfied: click in c:\\users\\roshi\\anaconda3\\lib\\site-packages (from nltk) (8.1.7)\n",
      "Requirement already satisfied: joblib in c:\\users\\roshi\\anaconda3\\lib\\site-packages (from nltk) (1.4.2)\n",
      "Requirement already satisfied: regex>=2021.8.3 in c:\\users\\roshi\\anaconda3\\lib\\site-packages (from nltk) (2024.9.11)\n",
      "Requirement already satisfied: tqdm in c:\\users\\roshi\\anaconda3\\lib\\site-packages (from nltk) (4.66.5)\n",
      "Requirement already satisfied: colorama in c:\\users\\roshi\\appdata\\roaming\\python\\python312\\site-packages (from click->nltk) (0.4.6)\n"
     ]
    }
   ],
   "source": [
    "!pip install nltk"
   ]
  },
  {
   "cell_type": "code",
   "execution_count": 37,
   "id": "42cd3548-6d7e-473d-8765-d75ba9e47cbc",
   "metadata": {},
   "outputs": [
    {
     "name": "stderr",
     "output_type": "stream",
     "text": [
      "[nltk_data] Downloading package stopwords to\n",
      "[nltk_data]     C:\\Users\\roshi\\AppData\\Roaming\\nltk_data...\n",
      "[nltk_data]   Package stopwords is already up-to-date!\n"
     ]
    },
    {
     "data": {
      "text/plain": [
       "True"
      ]
     },
     "execution_count": 37,
     "metadata": {},
     "output_type": "execute_result"
    }
   ],
   "source": [
    "import nltk\n",
    "from nltk.corpus import stopwords\n",
    "nltk.download('stopwords')"
   ]
  },
  {
   "cell_type": "code",
   "execution_count": 38,
   "id": "c35e4dee-f009-4a15-95d8-e93ae8cc41f6",
   "metadata": {},
   "outputs": [
    {
     "name": "stdout",
     "output_type": "stream",
     "text": [
      "List of stopwords in english:\n",
      "['a', 'about', 'above', 'after', 'again', 'against', 'ain', 'all', 'am', 'an', 'and', 'any', 'are', 'aren', \"aren't\", 'as', 'at', 'be', 'because', 'been', 'before', 'being', 'below', 'between', 'both', 'but', 'by', 'can', 'couldn', \"couldn't\", 'd', 'did', 'didn', \"didn't\", 'do', 'does', 'doesn', \"doesn't\", 'doing', 'don', \"don't\", 'down', 'during', 'each', 'few', 'for', 'from', 'further', 'had', 'hadn', \"hadn't\", 'has', 'hasn', \"hasn't\", 'have', 'haven', \"haven't\", 'having', 'he', \"he'd\", \"he'll\", 'her', 'here', 'hers', 'herself', \"he's\", 'him', 'himself', 'his', 'how', 'i', \"i'd\", 'if', \"i'll\", \"i'm\", 'in', 'into', 'is', 'isn', \"isn't\", 'it', \"it'd\", \"it'll\", \"it's\", 'its', 'itself', \"i've\", 'just', 'll', 'm', 'ma', 'me', 'mightn', \"mightn't\", 'more', 'most', 'mustn', \"mustn't\", 'my', 'myself', 'needn', \"needn't\", 'no', 'nor', 'not', 'now', 'o', 'of', 'off', 'on', 'once', 'only', 'or', 'other', 'our', 'ours', 'ourselves', 'out', 'over', 'own', 're', 's', 'same', 'shan', \"shan't\", 'she', \"she'd\", \"she'll\", \"she's\", 'should', 'shouldn', \"shouldn't\", \"should've\", 'so', 'some', 'such', 't', 'than', 'that', \"that'll\", 'the', 'their', 'theirs', 'them', 'themselves', 'then', 'there', 'these', 'they', \"they'd\", \"they'll\", \"they're\", \"they've\", 'this', 'those', 'through', 'to', 'too', 'under', 'until', 'up', 've', 'very', 'was', 'wasn', \"wasn't\", 'we', \"we'd\", \"we'll\", \"we're\", 'were', 'weren', \"weren't\", \"we've\", 'what', 'when', 'where', 'which', 'while', 'who', 'whom', 'why', 'will', 'with', 'won', \"won't\", 'wouldn', \"wouldn't\", 'y', 'you', \"you'd\", \"you'll\", 'your', \"you're\", 'yours', 'yourself', 'yourselves', \"you've\"]\n"
     ]
    }
   ],
   "source": [
    "nltk_stopwords=nltk.corpus.stopwords.words('english')\n",
    "#printing the list of stopwords in english which arev already predefined\n",
    "print(\"List of stopwords in english:\\n%s\" %list(nltk_stopwords))"
   ]
  },
  {
   "cell_type": "code",
   "execution_count": 39,
   "id": "cb2148cb-cd58-4bc8-b4f7-9c42b9c8d810",
   "metadata": {},
   "outputs": [
    {
     "name": "stdout",
     "output_type": "stream",
     "text": [
      "Lenth of the stopwords :198\n"
     ]
    }
   ],
   "source": [
    "print(\"Lenth of the stopwords :%d\" %len(nltk_stopwords))"
   ]
  },
  {
   "cell_type": "code",
   "execution_count": 40,
   "id": "b2a82e98-d8e1-420d-a894-9cd97b621d6a",
   "metadata": {},
   "outputs": [
    {
     "name": "stdout",
     "output_type": "stream",
     "text": [
      "['albanian', 'arabic', 'azerbaijani', 'basque', 'belarusian', 'bengali', 'catalan', 'chinese', 'danish', 'dutch', 'english', 'finnish', 'french', 'german', 'greek', 'hebrew', 'hinglish', 'hungarian', 'indonesian', 'italian', 'kazakh', 'nepali', 'norwegian', 'portuguese', 'romanian', 'russian', 'slovene', 'spanish', 'swedish', 'tajik', 'tamil', 'turkish']\n"
     ]
    }
   ],
   "source": [
    "print(stopwords.fileids())"
   ]
  },
  {
   "cell_type": "code",
   "execution_count": 41,
   "id": "3b0e957d-1ce1-4054-a568-9e377f462f77",
   "metadata": {},
   "outputs": [],
   "source": [
    "#sample text\n",
    "text=\"\"\"Historians currently think that anatomically modern humans been around for between 200,000 and 300,000 of the planet's 4.5 billion years.\n",
    "        And ever though 200,000 years is less than one 20,000th of the history of the planet,it is still a very long time!\n",
    "        For context,200,000 years would represent at least 6,000 generations of your ancestors (your grandparents are only 2 generations from you).\"\"\" "
   ]
  },
  {
   "cell_type": "code",
   "execution_count": 42,
   "id": "275c03bc-9f11-4741-a505-4089b0231be6",
   "metadata": {},
   "outputs": [
    {
     "name": "stderr",
     "output_type": "stream",
     "text": [
      "[nltk_data] Downloading package punkt_tab to\n",
      "[nltk_data]     C:\\Users\\roshi\\AppData\\Roaming\\nltk_data...\n",
      "[nltk_data]   Package punkt_tab is already up-to-date!\n"
     ]
    },
    {
     "data": {
      "text/plain": [
       "True"
      ]
     },
     "execution_count": 42,
     "metadata": {},
     "output_type": "execute_result"
    }
   ],
   "source": [
    "nltk.download('punkt_tab')"
   ]
  },
  {
   "cell_type": "code",
   "execution_count": 43,
   "id": "273a13e6-395b-4e77-95b8-e70d2f4b1a71",
   "metadata": {},
   "outputs": [
    {
     "data": {
      "text/plain": [
       "['Historians',\n",
       " 'currently',\n",
       " 'think',\n",
       " 'that',\n",
       " 'anatomically',\n",
       " 'modern',\n",
       " 'humans',\n",
       " 'been',\n",
       " 'around',\n",
       " 'for',\n",
       " 'between',\n",
       " '200,000',\n",
       " 'and',\n",
       " '300,000',\n",
       " 'of',\n",
       " 'the',\n",
       " 'planet',\n",
       " \"'s\",\n",
       " '4.5',\n",
       " 'billion',\n",
       " 'years',\n",
       " '.',\n",
       " 'And',\n",
       " 'ever',\n",
       " 'though',\n",
       " '200,000',\n",
       " 'years',\n",
       " 'is',\n",
       " 'less',\n",
       " 'than',\n",
       " 'one',\n",
       " '20,000th',\n",
       " 'of',\n",
       " 'the',\n",
       " 'history',\n",
       " 'of',\n",
       " 'the',\n",
       " 'planet',\n",
       " ',',\n",
       " 'it',\n",
       " 'is',\n",
       " 'still',\n",
       " 'a',\n",
       " 'very',\n",
       " 'long',\n",
       " 'time',\n",
       " '!',\n",
       " 'For',\n",
       " 'context,200,000',\n",
       " 'years',\n",
       " 'would',\n",
       " 'represent',\n",
       " 'at',\n",
       " 'least',\n",
       " '6,000',\n",
       " 'generations',\n",
       " 'of',\n",
       " 'your',\n",
       " 'ancestors',\n",
       " '(',\n",
       " 'your',\n",
       " 'grandparents',\n",
       " 'are',\n",
       " 'only',\n",
       " '2',\n",
       " 'generations',\n",
       " 'from',\n",
       " 'you',\n",
       " ')',\n",
       " '.']"
      ]
     },
     "execution_count": 43,
     "metadata": {},
     "output_type": "execute_result"
    }
   ],
   "source": [
    "tokens_NLTK=nltk.word_tokenize(text)\n",
    "tokens_NLTK"
   ]
  },
  {
   "cell_type": "code",
   "execution_count": 44,
   "id": "56a38906-33b4-4dbc-abda-9f9d180caff2",
   "metadata": {},
   "outputs": [
    {
     "data": {
      "text/plain": [
       "70"
      ]
     },
     "execution_count": 44,
     "metadata": {},
     "output_type": "execute_result"
    }
   ],
   "source": [
    "len(tokens_NLTK)"
   ]
  },
  {
   "cell_type": "code",
   "execution_count": 45,
   "id": "377d0442-ce41-416c-94f9-4f8520fd1a5c",
   "metadata": {},
   "outputs": [
    {
     "name": "stdout",
     "output_type": "stream",
     "text": [
      "Original tokens: ['Historians', 'currently', 'think', 'that', 'anatomically', 'modern', 'humans', 'been', 'around', 'for', 'between', '200,000', 'and', '300,000', 'of', 'the', 'planet', \"'s\", '4.5', 'billion', 'years', '.', 'And', 'ever', 'though', '200,000', 'years', 'is', 'less', 'than', 'one', '20,000th', 'of', 'the', 'history', 'of', 'the', 'planet', ',', 'it', 'is', 'still', 'a', 'very', 'long', 'time', '!', 'For', 'context,200,000', 'years', 'would', 'represent', 'at', 'least', '6,000', 'generations', 'of', 'your', 'ancestors', '(', 'your', 'grandparents', 'are', 'only', '2', 'generations', 'from', 'you', ')', '.']\n",
      "Filtered tokens: ['Historians', 'currently', 'think', 'anatomically', 'modern', 'humans', 'around', '200,000', '300,000', 'planet', \"'s\", '4.5', 'billion', 'years', '.', 'ever', 'though', '200,000', 'years', 'less', 'one', '20,000th', 'history', 'planet', ',', 'still', 'long', 'time', '!', 'context,200,000', 'years', 'would', 'represent', 'least', '6,000', 'generations', 'ancestors', '(', 'grandparents', '2', 'generations', ')', '.']\n",
      "Old text length: 70\n",
      "New text length: 43\n"
     ]
    }
   ],
   "source": [
    "filtered_tokens_NLTK=[word for word in tokens_NLTK if word.lower() not in stopwords.words('english')]\n",
    "print(\"Original tokens:\",tokens_NLTK)\n",
    "print(\"Filtered tokens:\",filtered_tokens_NLTK)\n",
    "print(\"Old text length:\",len(tokens_NLTK))\n",
    "print(\"New text length:\",len(filtered_tokens_NLTK))"
   ]
  },
  {
   "cell_type": "code",
   "execution_count": 46,
   "id": "c91e3c63-5870-4877-b0fc-5fa503b2b44a",
   "metadata": {},
   "outputs": [
    {
     "name": "stdout",
     "output_type": "stream",
     "text": [
      "Requirement already satisfied: spacy in c:\\users\\roshi\\anaconda3\\lib\\site-packages (3.8.7)\n",
      "Requirement already satisfied: spacy-legacy<3.1.0,>=3.0.11 in c:\\users\\roshi\\anaconda3\\lib\\site-packages (from spacy) (3.0.12)\n",
      "Requirement already satisfied: spacy-loggers<2.0.0,>=1.0.0 in c:\\users\\roshi\\anaconda3\\lib\\site-packages (from spacy) (1.0.5)\n",
      "Requirement already satisfied: murmurhash<1.1.0,>=0.28.0 in c:\\users\\roshi\\anaconda3\\lib\\site-packages (from spacy) (1.0.13)\n",
      "Requirement already satisfied: cymem<2.1.0,>=2.0.2 in c:\\users\\roshi\\anaconda3\\lib\\site-packages (from spacy) (2.0.11)\n",
      "Requirement already satisfied: preshed<3.1.0,>=3.0.2 in c:\\users\\roshi\\anaconda3\\lib\\site-packages (from spacy) (3.0.10)\n",
      "Requirement already satisfied: thinc<8.4.0,>=8.3.4 in c:\\users\\roshi\\anaconda3\\lib\\site-packages (from spacy) (8.3.6)\n",
      "Requirement already satisfied: wasabi<1.2.0,>=0.9.1 in c:\\users\\roshi\\anaconda3\\lib\\site-packages (from spacy) (1.1.3)\n",
      "Requirement already satisfied: srsly<3.0.0,>=2.4.3 in c:\\users\\roshi\\anaconda3\\lib\\site-packages (from spacy) (2.5.1)\n",
      "Requirement already satisfied: catalogue<2.1.0,>=2.0.6 in c:\\users\\roshi\\anaconda3\\lib\\site-packages (from spacy) (2.0.10)\n",
      "Requirement already satisfied: weasel<0.5.0,>=0.1.0 in c:\\users\\roshi\\anaconda3\\lib\\site-packages (from spacy) (0.4.1)\n",
      "Requirement already satisfied: typer<1.0.0,>=0.3.0 in c:\\users\\roshi\\anaconda3\\lib\\site-packages (from spacy) (0.9.0)\n",
      "Requirement already satisfied: tqdm<5.0.0,>=4.38.0 in c:\\users\\roshi\\anaconda3\\lib\\site-packages (from spacy) (4.66.5)\n",
      "Requirement already satisfied: numpy>=1.19.0 in c:\\users\\roshi\\anaconda3\\lib\\site-packages (from spacy) (1.26.4)\n",
      "Requirement already satisfied: requests<3.0.0,>=2.13.0 in c:\\users\\roshi\\appdata\\roaming\\python\\python312\\site-packages (from spacy) (2.32.3)\n",
      "Requirement already satisfied: pydantic!=1.8,!=1.8.1,<3.0.0,>=1.7.4 in c:\\users\\roshi\\anaconda3\\lib\\site-packages (from spacy) (2.8.2)\n",
      "Requirement already satisfied: jinja2 in c:\\users\\roshi\\appdata\\roaming\\python\\python312\\site-packages (from spacy) (3.1.6)\n",
      "Requirement already satisfied: setuptools in c:\\users\\roshi\\appdata\\roaming\\python\\python312\\site-packages (from spacy) (80.9.0)\n",
      "Requirement already satisfied: packaging>=20.0 in c:\\users\\roshi\\appdata\\roaming\\python\\python312\\site-packages (from spacy) (25.0)\n",
      "Requirement already satisfied: langcodes<4.0.0,>=3.2.0 in c:\\users\\roshi\\anaconda3\\lib\\site-packages (from spacy) (3.5.0)\n",
      "Requirement already satisfied: language-data>=1.2 in c:\\users\\roshi\\anaconda3\\lib\\site-packages (from langcodes<4.0.0,>=3.2.0->spacy) (1.3.0)\n",
      "Requirement already satisfied: annotated-types>=0.4.0 in c:\\users\\roshi\\anaconda3\\lib\\site-packages (from pydantic!=1.8,!=1.8.1,<3.0.0,>=1.7.4->spacy) (0.6.0)\n",
      "Requirement already satisfied: pydantic-core==2.20.1 in c:\\users\\roshi\\anaconda3\\lib\\site-packages (from pydantic!=1.8,!=1.8.1,<3.0.0,>=1.7.4->spacy) (2.20.1)\n",
      "Requirement already satisfied: typing-extensions>=4.6.1 in c:\\users\\roshi\\appdata\\roaming\\python\\python312\\site-packages (from pydantic!=1.8,!=1.8.1,<3.0.0,>=1.7.4->spacy) (4.13.2)\n",
      "Requirement already satisfied: charset-normalizer<4,>=2 in c:\\users\\roshi\\appdata\\roaming\\python\\python312\\site-packages (from requests<3.0.0,>=2.13.0->spacy) (3.4.2)\n",
      "Requirement already satisfied: idna<4,>=2.5 in c:\\users\\roshi\\appdata\\roaming\\python\\python312\\site-packages (from requests<3.0.0,>=2.13.0->spacy) (3.10)\n",
      "Requirement already satisfied: urllib3<3,>=1.21.1 in c:\\users\\roshi\\appdata\\roaming\\python\\python312\\site-packages (from requests<3.0.0,>=2.13.0->spacy) (2.4.0)\n",
      "Requirement already satisfied: certifi>=2017.4.17 in c:\\users\\roshi\\appdata\\roaming\\python\\python312\\site-packages (from requests<3.0.0,>=2.13.0->spacy) (2025.4.26)\n",
      "Requirement already satisfied: blis<1.4.0,>=1.3.0 in c:\\users\\roshi\\anaconda3\\lib\\site-packages (from thinc<8.4.0,>=8.3.4->spacy) (1.3.0)\n",
      "Requirement already satisfied: confection<1.0.0,>=0.0.1 in c:\\users\\roshi\\anaconda3\\lib\\site-packages (from thinc<8.4.0,>=8.3.4->spacy) (0.1.5)\n",
      "Collecting numpy>=1.19.0 (from spacy)\n",
      "  Using cached numpy-2.3.0-cp312-cp312-win_amd64.whl.metadata (60 kB)\n",
      "Requirement already satisfied: colorama in c:\\users\\roshi\\appdata\\roaming\\python\\python312\\site-packages (from tqdm<5.0.0,>=4.38.0->spacy) (0.4.6)\n",
      "Requirement already satisfied: click<9.0.0,>=7.1.1 in c:\\users\\roshi\\anaconda3\\lib\\site-packages (from typer<1.0.0,>=0.3.0->spacy) (8.1.7)\n",
      "Requirement already satisfied: cloudpathlib<1.0.0,>=0.7.0 in c:\\users\\roshi\\anaconda3\\lib\\site-packages (from weasel<0.5.0,>=0.1.0->spacy) (0.21.1)\n",
      "Requirement already satisfied: smart-open<8.0.0,>=5.2.1 in c:\\users\\roshi\\anaconda3\\lib\\site-packages (from weasel<0.5.0,>=0.1.0->spacy) (5.2.1)\n",
      "Requirement already satisfied: MarkupSafe>=2.0 in c:\\users\\roshi\\appdata\\roaming\\python\\python312\\site-packages (from jinja2->spacy) (3.0.2)\n",
      "Requirement already satisfied: marisa-trie>=1.1.0 in c:\\users\\roshi\\anaconda3\\lib\\site-packages (from language-data>=1.2->langcodes<4.0.0,>=3.2.0->spacy) (1.2.1)\n",
      "Using cached numpy-2.3.0-cp312-cp312-win_amd64.whl (12.7 MB)\n",
      "Installing collected packages: numpy\n",
      "  Attempting uninstall: numpy\n",
      "    Found existing installation: numpy 1.26.4\n",
      "    Uninstalling numpy-1.26.4:\n",
      "      Successfully uninstalled numpy-1.26.4\n",
      "Successfully installed numpy-2.3.0\n"
     ]
    },
    {
     "name": "stderr",
     "output_type": "stream",
     "text": [
      "ERROR: pip's dependency resolver does not currently take into account all the packages that are installed. This behaviour is the source of the following dependency conflicts.\n",
      "contourpy 1.2.0 requires numpy<2.0,>=1.20, but you have numpy 2.3.0 which is incompatible.\n",
      "gensim 4.3.3 requires numpy<2.0,>=1.18.5, but you have numpy 2.3.0 which is incompatible.\n",
      "numba 0.60.0 requires numpy<2.1,>=1.22, but you have numpy 2.3.0 which is incompatible.\n",
      "scipy 1.13.1 requires numpy<2.3,>=1.22.4, but you have numpy 2.3.0 which is incompatible.\n",
      "streamlit 1.37.1 requires packaging<25,>=20, but you have packaging 25.0 which is incompatible.\n"
     ]
    }
   ],
   "source": [
    "!pip install spacy"
   ]
  },
  {
   "cell_type": "code",
   "execution_count": 47,
   "id": "b43c0741-82ee-4cd3-9992-037cc12f4be0",
   "metadata": {},
   "outputs": [
    {
     "name": "stdout",
     "output_type": "stream",
     "text": [
      "list of stop words in english:\n",
      "['show', 'off', 'of', 'alone', 'their', 'however', 'made', 'against', 'to', 'may', 'serious', 'well', 'ours', 'example2', 'here', 'beside', 'down', 'keep', 'anywhere', 'myself', 'four', 'after', 'during', '’s', 'others', 'more', 'always', 'itself', 'also', 'whoever', 'unless', 'thru', 'nine', 'towards', 'yourselves', 'again', 'whereafter', 'until', 'example3', 'somewhere', 'his', 'becomes', 'do', 'except', 'my', 'say', 'seems', 'already', 'a', 'becoming', 're', 'through', 'seem', 'an', 'twenty', 'bottom', 'since', '‘ve', 'herself', 'twelve', 'anyhow', 'less', 'the', 'has', 'anyone', 'no', 'rather', 'what', 'everyone', 'moreover', 'am', 'because', 'ten', 'not', 'around', 'wherever', 'please', 'i', 'any', 'namely', 'ourselves', 'if', 'least', 'sometimes', 'sixty', 'did', 'amongst', 'must', 'while', 'whenever', 'about', 'wherein', 'call', 'perhaps', 'within', 'just', \"'ll\", \"n't\", 'various', 'former', 'three', 'part', 'or', 'nothing', 'who', 'none', 'below', 'all', 'does', 'take', 'beforehand', 'whole', 'why', 'thereafter', 'cannot', 'herein', 'n‘t', 'upon', 'there', 'thence', 'than', 'so', 'you', '‘d', 'noone', 'another', 'yours', 'both', 'either', 'n’t', \"'m\", 'empty', 'per', '‘re', 'using', 'quite', 'at', 'name', 'whose', 'fifteen', 'can', 'he', 'up', 'first', 'regarding', 'have', 'with', 'whereby', 'whatever', 'enough', 'yet', 'forty', 'amount', 'often', 'hereafter', 'without', 'own', 'front', 'once', 'much', 'become', 'back', 'every', 'almost', 'hereby', 'therein', 'meanwhile', 'above', '’d', 'whereas', 'now', 'thereupon', 'else', 'next', 'nobody', 'too', 'this', 'everywhere', '‘s', 'anyway', 'along', 'together', 'whereupon', 'but', 'somehow', 'which', 'put', 'being', 'last', 'could', 'really', 'might', 'onto', 'third', 'among', 'behind', 'doing', 'example1', 'seeming', 'eight', 'me', 'very', 'many', 'under', 'how', 'had', 'even', 'hundred', 'neither', 'are', \"'d\", 'several', 'by', 'thus', 'that', 'will', 'still', 'himself', 'into', 'hereupon', 'full', 'otherwise', 'therefore', 'those', 'hence', 'her', 'give', 'they', 'some', 'formerly', 'mostly', '’ve', 'toward', 'whither', 'throughout', 'never', 'via', 'fifty', 'same', 'six', 'been', 'indeed', 'before', '’re', \"'re\", 'would', 'due', 'someone', 'done', 'we', \"'s\", '’m', 'seemed', 'its', 'five', 'where', 'used', 'though', 'when', 'one', 'two', 'everything', 'out', 'them', 'whence', 'should', 'him', 'in', 'although', 'is', 'latter', '‘ll', 'she', 'over', '‘m', '’ll', 'go', 'such', 'thereby', 'for', 'anything', 'top', 'from', 'us', 'get', 'whom', 'your', 'nor', 'became', 'afterwards', 'each', 'ca', 'eleven', 'make', 'was', 'besides', 'themselves', 'were', 'as', 'yourself', 'other', 'something', 'then', 'mine', 'nowhere', 'few', 'whether', 'sometime', 'ever', 'these', 'further', \"'ve\", 'beyond', 'most', 'be', 'it', 'side', 'see', 'across', 'only', 'move', 'nevertheless', 'on', 'hers', 'latterly', 'and', 'our', 'between', 'elsewhere']\n"
     ]
    }
   ],
   "source": [
    "import numpy as np\n",
    "import spacy\n",
    "spacy_nlp = spacy.load('en_core_web_sm')\n",
    "spacy_stopwords=spacy.lang.en.stop_words.STOP_WORDS\n",
    "print(\"list of stop words in english:\\n%s\" %list(spacy_stopwords))"
   ]
  },
  {
   "cell_type": "code",
   "execution_count": 48,
   "id": "ccc6daae-9612-43cb-9737-0e6c7fc8c6ed",
   "metadata": {},
   "outputs": [
    {
     "name": "stdout",
     "output_type": "stream",
     "text": [
      "Length of the stopwords :329\n"
     ]
    }
   ],
   "source": [
    "#length of stopwords\n",
    "print(\"Length of the stopwords :%d\"%len(spacy_stopwords))"
   ]
  },
  {
   "cell_type": "code",
   "execution_count": 49,
   "id": "27100754-a56e-4517-83e4-94b2f02de78e",
   "metadata": {},
   "outputs": [
    {
     "data": {
      "text/plain": [
       "['Historians',\n",
       " 'currently',\n",
       " 'think',\n",
       " 'that',\n",
       " 'anatomically',\n",
       " 'modern',\n",
       " 'humans',\n",
       " 'been',\n",
       " 'around',\n",
       " 'for',\n",
       " 'between',\n",
       " '200,000',\n",
       " 'and',\n",
       " '300,000',\n",
       " 'of',\n",
       " 'the',\n",
       " 'planet',\n",
       " \"'s\",\n",
       " '4.5',\n",
       " 'billion',\n",
       " 'years',\n",
       " '.',\n",
       " '\\n        ',\n",
       " 'And',\n",
       " 'ever',\n",
       " 'though',\n",
       " '200,000',\n",
       " 'years',\n",
       " 'is',\n",
       " 'less',\n",
       " 'than',\n",
       " 'one',\n",
       " '20,000th',\n",
       " 'of',\n",
       " 'the',\n",
       " 'history',\n",
       " 'of',\n",
       " 'the',\n",
       " 'planet',\n",
       " ',',\n",
       " 'it',\n",
       " 'is',\n",
       " 'still',\n",
       " 'a',\n",
       " 'very',\n",
       " 'long',\n",
       " 'time',\n",
       " '!',\n",
       " '\\n        ',\n",
       " 'For',\n",
       " 'context,200,000',\n",
       " 'years',\n",
       " 'would',\n",
       " 'represent',\n",
       " 'at',\n",
       " 'least',\n",
       " '6,000',\n",
       " 'generations',\n",
       " 'of',\n",
       " 'your',\n",
       " 'ancestors',\n",
       " '(',\n",
       " 'your',\n",
       " 'grandparents',\n",
       " 'are',\n",
       " 'only',\n",
       " '2',\n",
       " 'generations',\n",
       " 'from',\n",
       " 'you',\n",
       " ')',\n",
       " '.']"
      ]
     },
     "execution_count": 49,
     "metadata": {},
     "output_type": "execute_result"
    }
   ],
   "source": [
    "doc=spacy_nlp(text)\n",
    "token_spacy=[tokens.text for tokens in doc]\n",
    "token_spacy"
   ]
  },
  {
   "cell_type": "code",
   "execution_count": 50,
   "id": "aa6117c3-32e4-4ad7-92fc-75b2a4da9550",
   "metadata": {},
   "outputs": [
    {
     "data": {
      "text/plain": [
       "72"
      ]
     },
     "execution_count": 50,
     "metadata": {},
     "output_type": "execute_result"
    }
   ],
   "source": [
    "len(token_spacy)"
   ]
  },
  {
   "cell_type": "code",
   "execution_count": 51,
   "id": "38cc2972-b841-45d7-970a-96be72e8bdfd",
   "metadata": {},
   "outputs": [
    {
     "name": "stdout",
     "output_type": "stream",
     "text": [
      "Original Tokens: ['Historians', 'currently', 'think', 'that', 'anatomically', 'modern', 'humans', 'been', 'around', 'for', 'between', '200,000', 'and', '300,000', 'of', 'the', 'planet', \"'s\", '4.5', 'billion', 'years', '.', '\\n        ', 'And', 'ever', 'though', '200,000', 'years', 'is', 'less', 'than', 'one', '20,000th', 'of', 'the', 'history', 'of', 'the', 'planet', ',', 'it', 'is', 'still', 'a', 'very', 'long', 'time', '!', '\\n        ', 'For', 'context,200,000', 'years', 'would', 'represent', 'at', 'least', '6,000', 'generations', 'of', 'your', 'ancestors', '(', 'your', 'grandparents', 'are', 'only', '2', 'generations', 'from', 'you', ')', '.']\n",
      "Filtered Tokens: ['Historians', 'currently', 'think', 'anatomically', 'modern', 'humans', '200,000', '300,000', 'planet', '4.5', 'billion', 'years', '.', '\\n        ', '200,000', 'years', '20,000th', 'history', 'planet', ',', 'long', 'time', '!', '\\n        ', 'context,200,000', 'years', 'represent', '6,000', 'generations', 'ancestors', '(', 'grandparents', '2', 'generations', ')', '.']\n",
      "Old text length: 72\n",
      "New text length: 36\n"
     ]
    }
   ],
   "source": [
    "filtered_tokens_spacy=[word for word in token_spacy if word.lower() not in spacy_stopwords]\n",
    "print(\"Original Tokens:\",token_spacy)\n",
    "print(\"Filtered Tokens:\",filtered_tokens_spacy)\n",
    "print(\"Old text length:\",len(token_spacy))\n",
    "print(\"New text length:\",len(filtered_tokens_spacy))"
   ]
  },
  {
   "cell_type": "code",
   "execution_count": 79,
   "id": "b24595dd-2003-4fad-8b97-8a1bde0a1512",
   "metadata": {},
   "outputs": [
    {
     "data": {
      "text/plain": [
       "['Historians',\n",
       " 'currently',\n",
       " 'think',\n",
       " 'anatomically',\n",
       " 'modern',\n",
       " 'humans',\n",
       " '200,000',\n",
       " '300,000',\n",
       " 'planet',\n",
       " '4.5',\n",
       " 'billion',\n",
       " 'years',\n",
       " '.',\n",
       " '\\n        ',\n",
       " '200,000',\n",
       " 'years',\n",
       " '20,000th',\n",
       " 'history',\n",
       " 'planet',\n",
       " ',',\n",
       " 'long',\n",
       " 'time',\n",
       " '!',\n",
       " '\\n        ',\n",
       " 'context,200,000',\n",
       " 'years',\n",
       " 'represent',\n",
       " '6,000',\n",
       " 'generations',\n",
       " 'ancestors',\n",
       " '(',\n",
       " 'grandparents',\n",
       " '2',\n",
       " 'generations',\n",
       " ')',\n",
       " '.']"
      ]
     },
     "execution_count": 79,
     "metadata": {},
     "output_type": "execute_result"
    }
   ],
   "source": [
    "filtered_tokens_spacy"
   ]
  },
  {
   "cell_type": "code",
   "execution_count": 53,
   "id": "9e558501-9e44-4d28-b1c5-aa714429e280",
   "metadata": {},
   "outputs": [
    {
     "name": "stdout",
     "output_type": "stream",
     "text": [
      "Requirement already satisfied: gensim in c:\\users\\roshi\\anaconda3\\lib\\site-packages (4.3.3)\n",
      "Collecting numpy<2.0,>=1.18.5 (from gensim)\n",
      "  Using cached numpy-1.26.4-cp312-cp312-win_amd64.whl.metadata (61 kB)\n",
      "Requirement already satisfied: scipy<1.14.0,>=1.7.0 in c:\\users\\roshi\\anaconda3\\lib\\site-packages (from gensim) (1.13.1)\n",
      "Requirement already satisfied: smart-open>=1.8.1 in c:\\users\\roshi\\anaconda3\\lib\\site-packages (from gensim) (5.2.1)\n",
      "Using cached numpy-1.26.4-cp312-cp312-win_amd64.whl (15.5 MB)\n",
      "Installing collected packages: numpy\n",
      "  Attempting uninstall: numpy\n",
      "    Found existing installation: numpy 2.3.0\n",
      "    Uninstalling numpy-2.3.0:\n",
      "      Successfully uninstalled numpy-2.3.0\n",
      "Successfully installed numpy-1.26.4\n"
     ]
    },
    {
     "name": "stderr",
     "output_type": "stream",
     "text": [
      "ERROR: pip's dependency resolver does not currently take into account all the packages that are installed. This behaviour is the source of the following dependency conflicts.\n",
      "streamlit 1.37.1 requires packaging<25,>=20, but you have packaging 25.0 which is incompatible.\n",
      "thinc 8.3.6 requires numpy<3.0.0,>=2.0.0, but you have numpy 1.26.4 which is incompatible.\n"
     ]
    }
   ],
   "source": [
    "!pip install gensim"
   ]
  },
  {
   "cell_type": "code",
   "execution_count": 78,
   "id": "f45a11cd-0ab5-488c-ab76-00e820e0a69f",
   "metadata": {},
   "outputs": [],
   "source": [
    "import gensim\n",
    "from gensim.parsing.preprocessing import remove_stopwords"
   ]
  },
  {
   "cell_type": "code",
   "execution_count": 55,
   "id": "496b8f89-da4d-44d2-8649-84f3358b1ee1",
   "metadata": {},
   "outputs": [
    {
     "data": {
      "text/plain": [
       "frozenset({'a',\n",
       "           'about',\n",
       "           'above',\n",
       "           'across',\n",
       "           'after',\n",
       "           'afterwards',\n",
       "           'again',\n",
       "           'against',\n",
       "           'all',\n",
       "           'almost',\n",
       "           'alone',\n",
       "           'along',\n",
       "           'already',\n",
       "           'also',\n",
       "           'although',\n",
       "           'always',\n",
       "           'am',\n",
       "           'among',\n",
       "           'amongst',\n",
       "           'amoungst',\n",
       "           'amount',\n",
       "           'an',\n",
       "           'and',\n",
       "           'another',\n",
       "           'any',\n",
       "           'anyhow',\n",
       "           'anyone',\n",
       "           'anything',\n",
       "           'anyway',\n",
       "           'anywhere',\n",
       "           'are',\n",
       "           'around',\n",
       "           'as',\n",
       "           'at',\n",
       "           'back',\n",
       "           'be',\n",
       "           'became',\n",
       "           'because',\n",
       "           'become',\n",
       "           'becomes',\n",
       "           'becoming',\n",
       "           'been',\n",
       "           'before',\n",
       "           'beforehand',\n",
       "           'behind',\n",
       "           'being',\n",
       "           'below',\n",
       "           'beside',\n",
       "           'besides',\n",
       "           'between',\n",
       "           'beyond',\n",
       "           'bill',\n",
       "           'both',\n",
       "           'bottom',\n",
       "           'but',\n",
       "           'by',\n",
       "           'call',\n",
       "           'can',\n",
       "           'cannot',\n",
       "           'cant',\n",
       "           'co',\n",
       "           'computer',\n",
       "           'con',\n",
       "           'could',\n",
       "           'couldnt',\n",
       "           'cry',\n",
       "           'de',\n",
       "           'describe',\n",
       "           'detail',\n",
       "           'did',\n",
       "           'didn',\n",
       "           'do',\n",
       "           'does',\n",
       "           'doesn',\n",
       "           'doing',\n",
       "           'don',\n",
       "           'done',\n",
       "           'down',\n",
       "           'due',\n",
       "           'during',\n",
       "           'each',\n",
       "           'eg',\n",
       "           'eight',\n",
       "           'either',\n",
       "           'eleven',\n",
       "           'else',\n",
       "           'elsewhere',\n",
       "           'empty',\n",
       "           'enough',\n",
       "           'etc',\n",
       "           'even',\n",
       "           'ever',\n",
       "           'every',\n",
       "           'everyone',\n",
       "           'everything',\n",
       "           'everywhere',\n",
       "           'except',\n",
       "           'few',\n",
       "           'fifteen',\n",
       "           'fifty',\n",
       "           'fill',\n",
       "           'find',\n",
       "           'fire',\n",
       "           'first',\n",
       "           'five',\n",
       "           'for',\n",
       "           'former',\n",
       "           'formerly',\n",
       "           'forty',\n",
       "           'found',\n",
       "           'four',\n",
       "           'from',\n",
       "           'front',\n",
       "           'full',\n",
       "           'further',\n",
       "           'get',\n",
       "           'give',\n",
       "           'go',\n",
       "           'had',\n",
       "           'has',\n",
       "           'hasnt',\n",
       "           'have',\n",
       "           'he',\n",
       "           'hence',\n",
       "           'her',\n",
       "           'here',\n",
       "           'hereafter',\n",
       "           'hereby',\n",
       "           'herein',\n",
       "           'hereupon',\n",
       "           'hers',\n",
       "           'herself',\n",
       "           'him',\n",
       "           'himself',\n",
       "           'his',\n",
       "           'how',\n",
       "           'however',\n",
       "           'hundred',\n",
       "           'i',\n",
       "           'ie',\n",
       "           'if',\n",
       "           'in',\n",
       "           'inc',\n",
       "           'indeed',\n",
       "           'interest',\n",
       "           'into',\n",
       "           'is',\n",
       "           'it',\n",
       "           'its',\n",
       "           'itself',\n",
       "           'just',\n",
       "           'keep',\n",
       "           'kg',\n",
       "           'km',\n",
       "           'last',\n",
       "           'latter',\n",
       "           'latterly',\n",
       "           'least',\n",
       "           'less',\n",
       "           'ltd',\n",
       "           'made',\n",
       "           'make',\n",
       "           'many',\n",
       "           'may',\n",
       "           'me',\n",
       "           'meanwhile',\n",
       "           'might',\n",
       "           'mill',\n",
       "           'mine',\n",
       "           'more',\n",
       "           'moreover',\n",
       "           'most',\n",
       "           'mostly',\n",
       "           'move',\n",
       "           'much',\n",
       "           'must',\n",
       "           'my',\n",
       "           'myself',\n",
       "           'name',\n",
       "           'namely',\n",
       "           'neither',\n",
       "           'never',\n",
       "           'nevertheless',\n",
       "           'next',\n",
       "           'nine',\n",
       "           'no',\n",
       "           'nobody',\n",
       "           'none',\n",
       "           'noone',\n",
       "           'nor',\n",
       "           'not',\n",
       "           'nothing',\n",
       "           'now',\n",
       "           'nowhere',\n",
       "           'of',\n",
       "           'off',\n",
       "           'often',\n",
       "           'on',\n",
       "           'once',\n",
       "           'one',\n",
       "           'only',\n",
       "           'onto',\n",
       "           'or',\n",
       "           'other',\n",
       "           'others',\n",
       "           'otherwise',\n",
       "           'our',\n",
       "           'ours',\n",
       "           'ourselves',\n",
       "           'out',\n",
       "           'over',\n",
       "           'own',\n",
       "           'part',\n",
       "           'per',\n",
       "           'perhaps',\n",
       "           'please',\n",
       "           'put',\n",
       "           'quite',\n",
       "           'rather',\n",
       "           're',\n",
       "           'really',\n",
       "           'regarding',\n",
       "           'same',\n",
       "           'say',\n",
       "           'see',\n",
       "           'seem',\n",
       "           'seemed',\n",
       "           'seeming',\n",
       "           'seems',\n",
       "           'serious',\n",
       "           'several',\n",
       "           'she',\n",
       "           'should',\n",
       "           'show',\n",
       "           'side',\n",
       "           'since',\n",
       "           'sincere',\n",
       "           'six',\n",
       "           'sixty',\n",
       "           'so',\n",
       "           'some',\n",
       "           'somehow',\n",
       "           'someone',\n",
       "           'something',\n",
       "           'sometime',\n",
       "           'sometimes',\n",
       "           'somewhere',\n",
       "           'still',\n",
       "           'such',\n",
       "           'system',\n",
       "           'take',\n",
       "           'ten',\n",
       "           'than',\n",
       "           'that',\n",
       "           'the',\n",
       "           'their',\n",
       "           'them',\n",
       "           'themselves',\n",
       "           'then',\n",
       "           'thence',\n",
       "           'there',\n",
       "           'thereafter',\n",
       "           'thereby',\n",
       "           'therefore',\n",
       "           'therein',\n",
       "           'thereupon',\n",
       "           'these',\n",
       "           'they',\n",
       "           'thick',\n",
       "           'thin',\n",
       "           'third',\n",
       "           'this',\n",
       "           'those',\n",
       "           'though',\n",
       "           'three',\n",
       "           'through',\n",
       "           'throughout',\n",
       "           'thru',\n",
       "           'thus',\n",
       "           'to',\n",
       "           'together',\n",
       "           'too',\n",
       "           'top',\n",
       "           'toward',\n",
       "           'towards',\n",
       "           'twelve',\n",
       "           'twenty',\n",
       "           'two',\n",
       "           'un',\n",
       "           'under',\n",
       "           'unless',\n",
       "           'until',\n",
       "           'up',\n",
       "           'upon',\n",
       "           'us',\n",
       "           'used',\n",
       "           'using',\n",
       "           'various',\n",
       "           'very',\n",
       "           'via',\n",
       "           'was',\n",
       "           'we',\n",
       "           'well',\n",
       "           'were',\n",
       "           'what',\n",
       "           'whatever',\n",
       "           'when',\n",
       "           'whence',\n",
       "           'whenever',\n",
       "           'where',\n",
       "           'whereafter',\n",
       "           'whereas',\n",
       "           'whereby',\n",
       "           'wherein',\n",
       "           'whereupon',\n",
       "           'wherever',\n",
       "           'whether',\n",
       "           'which',\n",
       "           'while',\n",
       "           'whither',\n",
       "           'who',\n",
       "           'whoever',\n",
       "           'whole',\n",
       "           'whom',\n",
       "           'whose',\n",
       "           'why',\n",
       "           'will',\n",
       "           'with',\n",
       "           'within',\n",
       "           'without',\n",
       "           'would',\n",
       "           'yet',\n",
       "           'you',\n",
       "           'your',\n",
       "           'yours',\n",
       "           'yourself',\n",
       "           'yourselves'})"
      ]
     },
     "execution_count": 55,
     "metadata": {},
     "output_type": "execute_result"
    }
   ],
   "source": [
    "gensim_stopwords=gensim.parsing.preprocessing.STOPWORDS\n",
    "gensim_stopwords"
   ]
  },
  {
   "cell_type": "code",
   "execution_count": 56,
   "id": "5af30eec-19c2-4834-98ff-fbe16b891ac1",
   "metadata": {},
   "outputs": [
    {
     "data": {
      "text/plain": [
       "337"
      ]
     },
     "execution_count": 56,
     "metadata": {},
     "output_type": "execute_result"
    }
   ],
   "source": [
    "len(gensim_stopwords)"
   ]
  },
  {
   "cell_type": "code",
   "execution_count": 57,
   "id": "9bcd1a28-c3e0-40b7-ac8b-ef208995d7a0",
   "metadata": {},
   "outputs": [
    {
     "name": "stdout",
     "output_type": "stream",
     "text": [
      "filtered text: Historians currently think anatomically modern humans 200,000 300,000 planet's 4.5 billion years. And 200,000 years 20,000th history planet,it long time! For context,200,000 years represent 6,000 generations ancestors (your grandparents 2 generations you).\n",
      "Old length: 408\n",
      "New length: 256\n"
     ]
    }
   ],
   "source": [
    "text=\"\"\"Historians currently think that anatomically modern humans been around for between 200,000 and 300,000 of the planet's 4.5 billion years.\n",
    "        And ever though 200,000 years is less than one 20,000th of the history of the planet,it is still a very long time!\n",
    "        For context,200,000 years would represent at least 6,000 generations of your ancestors (your grandparents are only 2 generations from you).\"\"\" \n",
    "new_text=remove_stopwords(text)\n",
    "print(\"filtered text:\",new_text)\n",
    "print(\"Old length:\",len(text))\n",
    "print(\"New length:\",len(new_text))"
   ]
  },
  {
   "cell_type": "code",
   "execution_count": 58,
   "id": "983dae6d-5cb7-443b-8860-9bdd1cacbdb6",
   "metadata": {},
   "outputs": [
    {
     "data": {
      "text/plain": [
       "frozenset({'a',\n",
       "           'about',\n",
       "           'above',\n",
       "           'across',\n",
       "           'after',\n",
       "           'afterwards',\n",
       "           'again',\n",
       "           'against',\n",
       "           'all',\n",
       "           'almost',\n",
       "           'alone',\n",
       "           'along',\n",
       "           'already',\n",
       "           'also',\n",
       "           'although',\n",
       "           'always',\n",
       "           'am',\n",
       "           'among',\n",
       "           'amongst',\n",
       "           'amoungst',\n",
       "           'amount',\n",
       "           'an',\n",
       "           'and',\n",
       "           'another',\n",
       "           'any',\n",
       "           'anyhow',\n",
       "           'anyone',\n",
       "           'anything',\n",
       "           'anyway',\n",
       "           'anywhere',\n",
       "           'are',\n",
       "           'around',\n",
       "           'as',\n",
       "           'at',\n",
       "           'back',\n",
       "           'be',\n",
       "           'became',\n",
       "           'because',\n",
       "           'become',\n",
       "           'becomes',\n",
       "           'becoming',\n",
       "           'been',\n",
       "           'before',\n",
       "           'beforehand',\n",
       "           'behind',\n",
       "           'being',\n",
       "           'below',\n",
       "           'beside',\n",
       "           'besides',\n",
       "           'between',\n",
       "           'beyond',\n",
       "           'bill',\n",
       "           'both',\n",
       "           'bottom',\n",
       "           'but',\n",
       "           'by',\n",
       "           'call',\n",
       "           'can',\n",
       "           'cannot',\n",
       "           'cant',\n",
       "           'co',\n",
       "           'con',\n",
       "           'could',\n",
       "           'couldnt',\n",
       "           'cry',\n",
       "           'de',\n",
       "           'describe',\n",
       "           'detail',\n",
       "           'do',\n",
       "           'done',\n",
       "           'down',\n",
       "           'due',\n",
       "           'during',\n",
       "           'each',\n",
       "           'eg',\n",
       "           'eight',\n",
       "           'either',\n",
       "           'eleven',\n",
       "           'else',\n",
       "           'elsewhere',\n",
       "           'empty',\n",
       "           'enough',\n",
       "           'etc',\n",
       "           'even',\n",
       "           'ever',\n",
       "           'every',\n",
       "           'everyone',\n",
       "           'everything',\n",
       "           'everywhere',\n",
       "           'except',\n",
       "           'few',\n",
       "           'fifteen',\n",
       "           'fifty',\n",
       "           'fill',\n",
       "           'find',\n",
       "           'fire',\n",
       "           'first',\n",
       "           'five',\n",
       "           'for',\n",
       "           'former',\n",
       "           'formerly',\n",
       "           'forty',\n",
       "           'found',\n",
       "           'four',\n",
       "           'from',\n",
       "           'front',\n",
       "           'full',\n",
       "           'further',\n",
       "           'get',\n",
       "           'give',\n",
       "           'go',\n",
       "           'had',\n",
       "           'has',\n",
       "           'hasnt',\n",
       "           'have',\n",
       "           'he',\n",
       "           'hence',\n",
       "           'her',\n",
       "           'here',\n",
       "           'hereafter',\n",
       "           'hereby',\n",
       "           'herein',\n",
       "           'hereupon',\n",
       "           'hers',\n",
       "           'herself',\n",
       "           'him',\n",
       "           'himself',\n",
       "           'his',\n",
       "           'how',\n",
       "           'however',\n",
       "           'hundred',\n",
       "           'i',\n",
       "           'ie',\n",
       "           'if',\n",
       "           'in',\n",
       "           'inc',\n",
       "           'indeed',\n",
       "           'interest',\n",
       "           'into',\n",
       "           'is',\n",
       "           'it',\n",
       "           'its',\n",
       "           'itself',\n",
       "           'keep',\n",
       "           'last',\n",
       "           'latter',\n",
       "           'latterly',\n",
       "           'least',\n",
       "           'less',\n",
       "           'ltd',\n",
       "           'made',\n",
       "           'many',\n",
       "           'may',\n",
       "           'me',\n",
       "           'meanwhile',\n",
       "           'might',\n",
       "           'mill',\n",
       "           'mine',\n",
       "           'more',\n",
       "           'moreover',\n",
       "           'most',\n",
       "           'mostly',\n",
       "           'move',\n",
       "           'much',\n",
       "           'must',\n",
       "           'my',\n",
       "           'myself',\n",
       "           'name',\n",
       "           'namely',\n",
       "           'neither',\n",
       "           'never',\n",
       "           'nevertheless',\n",
       "           'next',\n",
       "           'nine',\n",
       "           'no',\n",
       "           'nobody',\n",
       "           'none',\n",
       "           'noone',\n",
       "           'nor',\n",
       "           'not',\n",
       "           'nothing',\n",
       "           'now',\n",
       "           'nowhere',\n",
       "           'of',\n",
       "           'off',\n",
       "           'often',\n",
       "           'on',\n",
       "           'once',\n",
       "           'one',\n",
       "           'only',\n",
       "           'onto',\n",
       "           'or',\n",
       "           'other',\n",
       "           'others',\n",
       "           'otherwise',\n",
       "           'our',\n",
       "           'ours',\n",
       "           'ourselves',\n",
       "           'out',\n",
       "           'over',\n",
       "           'own',\n",
       "           'part',\n",
       "           'per',\n",
       "           'perhaps',\n",
       "           'please',\n",
       "           'put',\n",
       "           'rather',\n",
       "           're',\n",
       "           'same',\n",
       "           'see',\n",
       "           'seem',\n",
       "           'seemed',\n",
       "           'seeming',\n",
       "           'seems',\n",
       "           'serious',\n",
       "           'several',\n",
       "           'she',\n",
       "           'should',\n",
       "           'show',\n",
       "           'side',\n",
       "           'since',\n",
       "           'sincere',\n",
       "           'six',\n",
       "           'sixty',\n",
       "           'so',\n",
       "           'some',\n",
       "           'somehow',\n",
       "           'someone',\n",
       "           'something',\n",
       "           'sometime',\n",
       "           'sometimes',\n",
       "           'somewhere',\n",
       "           'still',\n",
       "           'such',\n",
       "           'system',\n",
       "           'take',\n",
       "           'ten',\n",
       "           'than',\n",
       "           'that',\n",
       "           'the',\n",
       "           'their',\n",
       "           'them',\n",
       "           'themselves',\n",
       "           'then',\n",
       "           'thence',\n",
       "           'there',\n",
       "           'thereafter',\n",
       "           'thereby',\n",
       "           'therefore',\n",
       "           'therein',\n",
       "           'thereupon',\n",
       "           'these',\n",
       "           'they',\n",
       "           'thick',\n",
       "           'thin',\n",
       "           'third',\n",
       "           'this',\n",
       "           'those',\n",
       "           'though',\n",
       "           'three',\n",
       "           'through',\n",
       "           'throughout',\n",
       "           'thru',\n",
       "           'thus',\n",
       "           'to',\n",
       "           'together',\n",
       "           'too',\n",
       "           'top',\n",
       "           'toward',\n",
       "           'towards',\n",
       "           'twelve',\n",
       "           'twenty',\n",
       "           'two',\n",
       "           'un',\n",
       "           'under',\n",
       "           'until',\n",
       "           'up',\n",
       "           'upon',\n",
       "           'us',\n",
       "           'very',\n",
       "           'via',\n",
       "           'was',\n",
       "           'we',\n",
       "           'well',\n",
       "           'were',\n",
       "           'what',\n",
       "           'whatever',\n",
       "           'when',\n",
       "           'whence',\n",
       "           'whenever',\n",
       "           'where',\n",
       "           'whereafter',\n",
       "           'whereas',\n",
       "           'whereby',\n",
       "           'wherein',\n",
       "           'whereupon',\n",
       "           'wherever',\n",
       "           'whether',\n",
       "           'which',\n",
       "           'while',\n",
       "           'whither',\n",
       "           'who',\n",
       "           'whoever',\n",
       "           'whole',\n",
       "           'whom',\n",
       "           'whose',\n",
       "           'why',\n",
       "           'will',\n",
       "           'with',\n",
       "           'within',\n",
       "           'without',\n",
       "           'would',\n",
       "           'yet',\n",
       "           'you',\n",
       "           'your',\n",
       "           'yours',\n",
       "           'yourself',\n",
       "           'yourselves'})"
      ]
     },
     "execution_count": 58,
     "metadata": {},
     "output_type": "execute_result"
    }
   ],
   "source": [
    "#stopwords removal using scikit-learn library\n",
    "from sklearn.feature_extraction.text import ENGLISH_STOP_WORDS\n",
    "ENGLISH_STOP_WORDS"
   ]
  },
  {
   "cell_type": "code",
   "execution_count": 59,
   "id": "cde89f97-6e6f-4b2a-8153-37587fdf59fa",
   "metadata": {},
   "outputs": [
    {
     "data": {
      "text/plain": [
       "318"
      ]
     },
     "execution_count": 59,
     "metadata": {},
     "output_type": "execute_result"
    }
   ],
   "source": [
    "len(ENGLISH_STOP_WORDS)"
   ]
  },
  {
   "cell_type": "code",
   "execution_count": 60,
   "id": "d4696889-099e-4672-a837-be297659b9af",
   "metadata": {},
   "outputs": [
    {
     "name": "stdout",
     "output_type": "stream",
     "text": [
      "['Historians', 'currently', 'think', 'anatomically', 'modern', 'humans', '200,000', '300,000', \"planet's\", '4.5', 'billion', 'years.', 'And', '200,000', 'years', '20,000th', 'history', 'planet,it', 'long', 'time!', 'For', 'context,200,000', 'years', 'represent', '6,000', 'generations', 'ancestors', '(your', 'grandparents', '2', 'generations', 'you).']\n",
      "32\n",
      "408\n"
     ]
    }
   ],
   "source": [
    "filtered_tokens=[word for word in text.split() if word not in ENGLISH_STOP_WORDS]\n",
    "print(filtered_tokens)\n",
    "print(len(filtered_tokens))\n",
    "print(len(text))"
   ]
  },
  {
   "cell_type": "code",
   "execution_count": 61,
   "id": "0106f2f9-fa38-44c2-a6bd-74d38ea33d9c",
   "metadata": {},
   "outputs": [
    {
     "name": "stdout",
     "output_type": "stream",
     "text": [
      "Existing length of the stopwords in nltk library: 198\n"
     ]
    }
   ],
   "source": [
    "#adding or removing from default stopwords\n",
    "print(\"Existing length of the stopwords in nltk library:\",len(nltk_stopwords))"
   ]
  },
  {
   "cell_type": "code",
   "execution_count": 62,
   "id": "57e81c6d-2dcd-4eea-8c76-de9bf1875f80",
   "metadata": {},
   "outputs": [
    {
     "data": {
      "text/plain": [
       "199"
      ]
     },
     "execution_count": 62,
     "metadata": {},
     "output_type": "execute_result"
    }
   ],
   "source": [
    "nltk_stopwords.append(\"example1\")#in nltk stopwords are defined as list\n",
    "len(nltk_stopwords)"
   ]
  },
  {
   "cell_type": "code",
   "execution_count": 63,
   "id": "f2a8b49e-fcba-4e4f-96d6-d9984a968ba3",
   "metadata": {},
   "outputs": [
    {
     "data": {
      "text/plain": [
       "201"
      ]
     },
     "execution_count": 63,
     "metadata": {},
     "output_type": "execute_result"
    }
   ],
   "source": [
    "nltk_stopwords.extend(['example2','example3'])\n",
    "len(nltk_stopwords)"
   ]
  },
  {
   "cell_type": "code",
   "execution_count": 64,
   "id": "2c9bbcc3-231d-438c-914b-576599dfc103",
   "metadata": {},
   "outputs": [
    {
     "name": "stdout",
     "output_type": "stream",
     "text": [
      "['a', 'about', 'above', 'after', 'again', 'against', 'ain', 'all', 'am', 'an', 'and', 'any', 'are', 'aren', \"aren't\", 'as', 'at', 'be', 'because', 'been', 'before', 'being', 'below', 'between', 'both', 'but', 'by', 'can', 'couldn', \"couldn't\", 'd', 'did', 'didn', \"didn't\", 'do', 'does', 'doesn', \"doesn't\", 'doing', 'don', \"don't\", 'down', 'during', 'each', 'few', 'for', 'from', 'further', 'had', 'hadn', \"hadn't\", 'has', 'hasn', \"hasn't\", 'have', 'haven', \"haven't\", 'having', 'he', \"he'd\", \"he'll\", 'her', 'here', 'hers', 'herself', \"he's\", 'him', 'himself', 'his', 'how', 'i', \"i'd\", 'if', \"i'll\", \"i'm\", 'in', 'into', 'is', 'isn', \"isn't\", 'it', \"it'd\", \"it'll\", \"it's\", 'its', 'itself', \"i've\", 'just', 'll', 'm', 'ma', 'me', 'mightn', \"mightn't\", 'more', 'most', 'mustn', \"mustn't\", 'my', 'myself', 'needn', \"needn't\", 'no', 'nor', 'not', 'now', 'o', 'of', 'off', 'on', 'once', 'only', 'or', 'other', 'our', 'ours', 'ourselves', 'out', 'over', 'own', 're', 's', 'same', 'shan', \"shan't\", 'she', \"she'd\", \"she'll\", \"she's\", 'should', 'shouldn', \"shouldn't\", \"should've\", 'so', 'some', 'such', 't', 'than', 'that', \"that'll\", 'the', 'their', 'theirs', 'them', 'themselves', 'then', 'there', 'these', 'they', \"they'd\", \"they'll\", \"they're\", \"they've\", 'this', 'those', 'through', 'to', 'too', 'under', 'until', 'up', 've', 'very', 'was', 'wasn', \"wasn't\", 'we', \"we'd\", \"we'll\", \"we're\", 'were', 'weren', \"weren't\", \"we've\", 'what', 'when', 'where', 'which', 'while', 'who', 'whom', 'why', 'will', 'with', 'won', \"won't\", 'wouldn', \"wouldn't\", 'y', 'you', \"you'd\", \"you'll\", 'your', \"you're\", 'yours', 'yourself', 'yourselves', \"you've\", 'example1', 'example2', 'example3']\n"
     ]
    }
   ],
   "source": [
    "print(nltk_stopwords)"
   ]
  },
  {
   "cell_type": "code",
   "execution_count": 65,
   "id": "bb3c1011-2f9b-44db-bddb-8a3f80ab0900",
   "metadata": {},
   "outputs": [],
   "source": [
    "nltk_stopwords.remove('where')"
   ]
  },
  {
   "cell_type": "code",
   "execution_count": 66,
   "id": "b8dff3f0-b167-47ca-af84-4eab9c172088",
   "metadata": {},
   "outputs": [
    {
     "data": {
      "text/plain": [
       "200"
      ]
     },
     "execution_count": 66,
     "metadata": {},
     "output_type": "execute_result"
    }
   ],
   "source": [
    "len(nltk_stopwords)"
   ]
  },
  {
   "cell_type": "code",
   "execution_count": 67,
   "id": "cc04a02a-6dc0-4785-bbc3-0f91693a1c71",
   "metadata": {},
   "outputs": [
    {
     "name": "stdout",
     "output_type": "stream",
     "text": [
      "{'show', 'off', 'of', 'alone', 'their', 'however', 'made', 'against', 'to', 'may', 'serious', 'well', 'ours', 'example2', 'here', 'beside', 'down', 'keep', 'anywhere', 'myself', 'four', 'after', 'during', '’s', 'others', 'more', 'always', 'itself', 'also', 'whoever', 'unless', 'thru', 'nine', 'towards', 'yourselves', 'again', 'whereafter', 'until', 'example3', 'somewhere', 'his', 'becomes', 'do', 'except', 'my', 'say', 'seems', 'already', 'a', 'becoming', 're', 'through', 'seem', 'an', 'twenty', 'bottom', 'since', '‘ve', 'herself', 'twelve', 'anyhow', 'less', 'the', 'has', 'anyone', 'no', 'rather', 'what', 'everyone', 'moreover', 'am', 'because', 'ten', 'not', 'around', 'wherever', 'please', 'i', 'any', 'namely', 'ourselves', 'if', 'least', 'sometimes', 'sixty', 'did', 'amongst', 'must', 'while', 'whenever', 'about', 'wherein', 'call', 'perhaps', 'within', 'just', \"'ll\", \"n't\", 'various', 'former', 'three', 'part', 'or', 'nothing', 'who', 'none', 'below', 'all', 'does', 'take', 'beforehand', 'whole', 'why', 'thereafter', 'cannot', 'herein', 'n‘t', 'upon', 'there', 'thence', 'than', 'so', 'you', '‘d', 'noone', 'another', 'yours', 'both', 'either', 'n’t', \"'m\", 'empty', 'per', '‘re', 'using', 'quite', 'at', 'name', 'whose', 'fifteen', 'can', 'he', 'up', 'first', 'regarding', 'have', 'with', 'whereby', 'whatever', 'enough', 'yet', 'forty', 'amount', 'often', 'hereafter', 'without', 'own', 'front', 'once', 'much', 'become', 'back', 'every', 'almost', 'hereby', 'therein', 'meanwhile', 'above', '’d', 'whereas', 'now', 'thereupon', 'else', 'next', 'nobody', 'too', 'this', 'everywhere', '‘s', 'anyway', 'along', 'together', 'whereupon', 'but', 'somehow', 'which', 'put', 'being', 'last', 'could', 'really', 'might', 'onto', 'third', 'among', 'behind', 'doing', 'example1', 'seeming', 'eight', 'me', 'very', 'many', 'under', 'how', 'had', 'even', 'hundred', 'neither', 'are', \"'d\", 'several', 'by', 'thus', 'that', 'will', 'still', 'himself', 'into', 'hereupon', 'full', 'otherwise', 'therefore', 'those', 'hence', 'her', 'give', 'they', 'some', 'formerly', 'mostly', '’ve', 'toward', 'whither', 'throughout', 'never', 'via', 'fifty', 'same', 'six', 'been', 'indeed', 'before', '’re', \"'re\", 'would', 'due', 'someone', 'done', 'we', \"'s\", '’m', 'seemed', 'its', 'five', 'where', 'used', 'though', 'when', 'one', 'two', 'everything', 'out', 'them', 'whence', 'should', 'him', 'in', 'although', 'is', 'latter', '‘ll', 'she', 'over', '‘m', '’ll', 'go', 'such', 'thereby', 'for', 'anything', 'top', 'from', 'us', 'get', 'whom', 'your', 'nor', 'became', 'afterwards', 'each', 'ca', 'eleven', 'make', 'was', 'besides', 'themselves', 'were', 'as', 'yourself', 'other', 'something', 'then', 'mine', 'nowhere', 'few', 'whether', 'sometime', 'ever', 'these', 'further', \"'ve\", 'beyond', 'most', 'be', 'it', 'side', 'see', 'across', 'only', 'move', 'nevertheless', 'on', 'hers', 'latterly', 'and', 'our', 'between', 'elsewhere'}\n"
     ]
    }
   ],
   "source": [
    "nlp=spacy.load('en_core_web_sm')\n",
    "spacy_stopwords=nlp.Defaults.stop_words\n",
    "print(spacy_stopwords)"
   ]
  },
  {
   "cell_type": "code",
   "execution_count": 68,
   "id": "5bb07a36-f54d-456b-a48e-2c373ad3345d",
   "metadata": {},
   "outputs": [
    {
     "data": {
      "text/plain": [
       "329"
      ]
     },
     "execution_count": 68,
     "metadata": {},
     "output_type": "execute_result"
    }
   ],
   "source": [
    "len(spacy_stopwords)"
   ]
  },
  {
   "cell_type": "code",
   "execution_count": 69,
   "id": "a56e3ebb-87da-4ed3-9005-431e5edfcde1",
   "metadata": {},
   "outputs": [
    {
     "data": {
      "text/plain": [
       "329"
      ]
     },
     "execution_count": 69,
     "metadata": {},
     "output_type": "execute_result"
    }
   ],
   "source": [
    "spacy_stopwords.add('example1')#in spacy stopwords are defined as sets\n",
    "len(spacy_stopwords)"
   ]
  },
  {
   "cell_type": "code",
   "execution_count": 70,
   "id": "7cb9eb85-3038-4318-818d-88f9c903e160",
   "metadata": {},
   "outputs": [
    {
     "data": {
      "text/plain": [
       "329"
      ]
     },
     "execution_count": 70,
     "metadata": {},
     "output_type": "execute_result"
    }
   ],
   "source": [
    "spacy_stopwords |={'example2','example3'}\n",
    "len(spacy_stopwords)"
   ]
  },
  {
   "cell_type": "code",
   "execution_count": 72,
   "id": "008b59c9-35a3-4850-b0bd-9434024a8ff9",
   "metadata": {},
   "outputs": [
    {
     "data": {
      "text/plain": [
       "328"
      ]
     },
     "execution_count": 72,
     "metadata": {},
     "output_type": "execute_result"
    }
   ],
   "source": [
    "spacy_stopwords.remove('example1')\n",
    "len(spacy_stopwords)"
   ]
  },
  {
   "cell_type": "code",
   "execution_count": 73,
   "id": "f6065926-0283-4c05-9933-4750e5ba1939",
   "metadata": {},
   "outputs": [
    {
     "name": "stdout",
     "output_type": "stream",
     "text": [
      "frozenset({'show', 'off', 'of', 'alone', 'their', 'however', 'made', 'hasnt', 'against', 'to', 'may', 'serious', 'well', 'ours', 'here', 'beside', 'down', 'keep', 'anywhere', 'myself', 'four', 'after', 'during', 'others', 'more', 'always', 'system', 'itself', 'also', 'whoever', 'thru', 'nine', 'towards', 'eg', 'yourselves', 'again', 'whereafter', 'until', 'somewhere', 'his', 'becomes', 'do', 'except', 'my', 'seems', 'already', 'a', 'becoming', 're', 'co', 'through', 'seem', 'an', 'twenty', 'bottom', 'since', 'herself', 'twelve', 'thin', 'anyhow', 'less', 'the', 'has', 'anyone', 'no', 'rather', 'what', 'everyone', 'moreover', 'am', 'because', 'mill', 'ten', 'etc', 'found', 'not', 'around', 'wherever', 'please', 'i', 'any', 'namely', 'ourselves', 'if', 'least', 'sometimes', 'sixty', 'amongst', 'must', 'while', 'whenever', 'about', 'wherein', 'call', 'perhaps', 'within', 'former', 'three', 'cant', 'part', 'or', 'fire', 'nothing', 'who', 'none', 'below', 'all', 'take', 'beforehand', 'whole', 'why', 'thereafter', 'cannot', 'herein', 'upon', 'there', 'thence', 'than', 'so', 'you', 'noone', 'another', 'yours', 'both', 'either', 'empty', 'per', 'cry', 'at', 'name', 'whose', 'fifteen', 'can', 'he', 'up', 'first', 'have', 'with', 'whereby', 'whatever', 'enough', 'yet', 'forty', 'amount', 'often', 'hereafter', 'without', 'own', 'front', 'once', 'much', 'become', 'back', 'every', 'ltd', 'almost', 'con', 'hereby', 'therein', 'fill', 'meanwhile', 'above', 'whereas', 'inc', 'now', 'thereupon', 'else', 'next', 'nobody', 'too', 'this', 'everywhere', 'anyway', 'along', 'un', 'together', 'whereupon', 'but', 'somehow', 'which', 'put', 'being', 'last', 'could', 'sincere', 'might', 'onto', 'third', 'among', 'behind', 'seeming', 'eight', 'find', 'me', 'very', 'many', 'under', 'how', 'had', 'even', 'hundred', 'neither', 'are', 'several', 'describe', 'by', 'thus', 'thick', 'that', 'will', 'still', 'himself', 'into', 'couldnt', 'hereupon', 'full', 'otherwise', 'therefore', 'those', 'hence', 'her', 'give', 'they', 'some', 'formerly', 'mostly', 'toward', 'whither', 'ie', 'throughout', 'never', 'via', 'fifty', 'same', 'six', 'been', 'indeed', 'before', 'would', 'due', 'someone', 'done', 'detail', 'we', 'seemed', 'its', 'five', 'where', 'though', 'when', 'one', 'two', 'everything', 'out', 'them', 'whence', 'should', 'him', 'in', 'although', 'is', 'latter', 'she', 'over', 'go', 'bill', 'such', 'thereby', 'for', 'de', 'anything', 'top', 'from', 'us', 'get', 'whom', 'your', 'nor', 'became', 'afterwards', 'each', 'eleven', 'was', 'besides', 'themselves', 'were', 'as', 'yourself', 'other', 'something', 'then', 'mine', 'nowhere', 'few', 'whether', 'sometime', 'ever', 'these', 'further', 'beyond', 'most', 'be', 'amoungst', 'it', 'side', 'see', 'across', 'only', 'move', 'nevertheless', 'on', 'interest', 'hers', 'latterly', 'and', 'our', 'between', 'elsewhere'})\n"
     ]
    }
   ],
   "source": [
    "print(ENGLISH_STOP_WORDS)#TUPLE"
   ]
  },
  {
   "cell_type": "code",
   "execution_count": 74,
   "id": "05306266-088a-4976-b2a4-8fd0dcad3e25",
   "metadata": {},
   "outputs": [
    {
     "data": {
      "text/plain": [
       "337"
      ]
     },
     "execution_count": 74,
     "metadata": {},
     "output_type": "execute_result"
    }
   ],
   "source": [
    "from gensim.parsing.preprocessing import STOPWORDS\n",
    "gensim.stopwords=STOPWORDS.union(set(['example1','example2']))\n",
    "len(gensim_stopwords)"
   ]
  },
  {
   "cell_type": "code",
   "execution_count": 75,
   "id": "2356436e-89f7-4233-b535-08be96937158",
   "metadata": {},
   "outputs": [],
   "source": [
    "gensim_stopwords=STOPWORDS.difference(set(['example1','example2']))\n"
   ]
  },
  {
   "cell_type": "code",
   "execution_count": 76,
   "id": "334d029f-d168-46d2-87bf-6563c6a929c9",
   "metadata": {},
   "outputs": [],
   "source": [
    "#customization of stopwords\n",
    "text= '''Migraine is a genetically influenced complex neurological disorder characterized by episodes of moderate-to-severe headaches, typically unilateral and frequently accompanied by nausea and heightened sensitivity to light and sound. These episodes, known as migraine attacks, can last hours to days and significantly impact daily activities and the quality of life of individuals. Triggers for migraines vary widely among individuals and include factors such as stress, hormonal changes, specific foods, and environmental influences. Migraine attacks are recurrent and complex neurological events. The most prevalent type of migraine, accounting for 75% of cases, is migraine without aura.'''\n",
    "custom_stopwords=['migraines','headaches','you','your','off']"
   ]
  },
  {
   "cell_type": "code",
   "execution_count": 77,
   "id": "8eb3593f-df50-4f5c-b494-ee150899e50e",
   "metadata": {},
   "outputs": [
    {
     "name": "stdout",
     "output_type": "stream",
     "text": [
      "['Migraine', 'is', 'a', 'genetically', 'influenced', 'complex', 'neurological', 'disorder', 'characterized', 'by', 'episodes', 'of', 'moderate-to-severe', 'headaches', ',', 'typically', 'unilateral', 'and', 'frequently', 'accompanied', 'by', 'nausea', 'and', 'heightened', 'sensitivity', 'to', 'light', 'and', 'sound', '.', 'These', 'episodes', ',', 'known', 'as', 'migraine', 'attacks', ',', 'can', 'last', 'hours', 'to', 'days', 'and', 'significantly', 'impact', 'daily', 'activities', 'and', 'the', 'quality', 'of', 'life', 'of', 'individuals', '.', 'Triggers', 'for', 'migraines', 'vary', 'widely', 'among', 'individuals', 'and', 'include', 'factors', 'such', 'as', 'stress', ',', 'hormonal', 'changes', ',', 'specific', 'foods', ',', 'and', 'environmental', 'influences', '.', 'Migraine', 'attacks', 'are', 'recurrent', 'and', 'complex', 'neurological', 'events', '.', 'The', 'most', 'prevalent', 'type', 'of', 'migraine', ',', 'accounting', 'for', '75', '%', 'of', 'cases', ',', 'is', 'migraine', 'without', 'aura', '.']\n"
     ]
    }
   ],
   "source": [
    "tokens=nltk.word_tokenize(text)\n",
    "print(tokens)"
   ]
  },
  {
   "cell_type": "code",
   "execution_count": 80,
   "id": "134caec6-1a3f-4722-8b80-a83c9eb40fb8",
   "metadata": {},
   "outputs": [
    {
     "name": "stdout",
     "output_type": "stream",
     "text": [
      "['Migraine', 'is', 'a', 'genetically', 'influenced', 'complex', 'neurological', 'disorder', 'characterized', 'by', 'episodes', 'of', 'moderate-to-severe', ',', 'typically', 'unilateral', 'and', 'frequently', 'accompanied', 'by', 'nausea', 'and', 'heightened', 'sensitivity', 'to', 'light', 'and', 'sound', '.', 'These', 'episodes', ',', 'known', 'as', 'migraine', 'attacks', ',', 'can', 'last', 'hours', 'to', 'days', 'and', 'significantly', 'impact', 'daily', 'activities', 'and', 'the', 'quality', 'of', 'life', 'of', 'individuals', '.', 'Triggers', 'for', 'vary', 'widely', 'among', 'individuals', 'and', 'include', 'factors', 'such', 'as', 'stress', ',', 'hormonal', 'changes', ',', 'specific', 'foods', ',', 'and', 'environmental', 'influences', '.', 'Migraine', 'attacks', 'are', 'recurrent', 'and', 'complex', 'neurological', 'events', '.', 'The', 'most', 'prevalent', 'type', 'of', 'migraine', ',', 'accounting', 'for', '75', '%', 'of', 'cases', ',', 'is', 'migraine', 'without', 'aura', '.']\n"
     ]
    }
   ],
   "source": [
    "filtered_tokens=[word for word in tokens if word.lower() not in custom_stopwords]\n",
    "print(filtered_tokens)"
   ]
  },
  {
   "cell_type": "code",
   "execution_count": 81,
   "id": "f95ea7d1-3a2f-4922-aa24-b69b23ed4be3",
   "metadata": {},
   "outputs": [
    {
     "data": {
      "text/plain": [
       "108"
      ]
     },
     "execution_count": 81,
     "metadata": {},
     "output_type": "execute_result"
    }
   ],
   "source": [
    "len(tokens)"
   ]
  },
  {
   "cell_type": "code",
   "execution_count": 82,
   "id": "6af3fcc2-4e4e-47d3-9fb2-2829e842318f",
   "metadata": {},
   "outputs": [
    {
     "data": {
      "text/plain": [
       "106"
      ]
     },
     "execution_count": 82,
     "metadata": {},
     "output_type": "execute_result"
    }
   ],
   "source": [
    "len(filtered_tokens)"
   ]
  },
  {
   "cell_type": "code",
   "execution_count": null,
   "id": "d870bec8-bad1-475d-b872-f54bb5397b01",
   "metadata": {},
   "outputs": [],
   "source": []
  }
 ],
 "metadata": {
  "kernelspec": {
   "display_name": "Python [conda env:base] *",
   "language": "python",
   "name": "conda-base-py"
  },
  "language_info": {
   "codemirror_mode": {
    "name": "ipython",
    "version": 3
   },
   "file_extension": ".py",
   "mimetype": "text/x-python",
   "name": "python",
   "nbconvert_exporter": "python",
   "pygments_lexer": "ipython3",
   "version": "3.12.7"
  }
 },
 "nbformat": 4,
 "nbformat_minor": 5
}
